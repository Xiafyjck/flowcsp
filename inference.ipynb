{
 "cells": [
  {
   "cell_type": "markdown",
   "metadata": {},
   "source": [
    "# Crystal Structure Prediction - Full Dataset Inference\n",
    "\n",
    "对A_sample全部200个样本进行推理，每个生成10个结构，计算最佳RMSD\n",
    "\n",
    "模型路径: `/home/ma-user/work/mincycle4csp/outputs/transformer_cfm_20250826_210745/final_model.ckpt`"
   ]
  },
  {
   "cell_type": "code",
   "execution_count": 15,
   "metadata": {},
   "outputs": [
    {
     "data": {
      "text/html": [
       "<pre style=\"white-space:pre;overflow-x:auto;line-height:normal;font-family:Menlo,'DejaVu Sans Mono',consolas,'Courier New',monospace\"><span style=\"color: #008000; text-decoration-color: #008000\">✓ 所有模块导入成功</span>\n",
       "</pre>\n"
      ],
      "text/plain": [
       "\u001b[32m✓ 所有模块导入成功\u001b[0m\n"
      ]
     },
     "metadata": {},
     "output_type": "display_data"
    }
   ],
   "source": [
    "# 导入必要的库\n",
    "import torch\n",
    "import numpy as np\n",
    "import pandas as pd\n",
    "import pickle\n",
    "import matplotlib.pyplot as plt\n",
    "from pathlib import Path\n",
    "from typing import Dict, List, Optional, Tuple\n",
    "import warnings\n",
    "from tqdm.auto import tqdm\n",
    "from rich.console import Console\n",
    "from rich.table import Table\n",
    "warnings.filterwarnings('ignore')\n",
    "\n",
    "# 导入pymatgen用于晶体结构处理\n",
    "from pymatgen.core import Structure, Lattice, Element\n",
    "from pymatgen.io.cif import CifWriter\n",
    "\n",
    "# 导入项目模块\n",
    "import sys\n",
    "sys.path.append('/home/ma-user/work/mincycle4csp')\n",
    "\n",
    "from src.data import CrystalDataset\n",
    "from src.trainer import CrystalFlowTrainer\n",
    "from src.networks import build_network\n",
    "from src.flows import build_flow\n",
    "from src.metrics import rmsd\n",
    "\n",
    "console = Console()\n",
    "console.print('✓ 所有模块导入成功', style='green')"
   ]
  },
  {
   "cell_type": "code",
   "execution_count": 16,
   "metadata": {},
   "outputs": [
    {
     "data": {
      "text/html": [
       "<pre style=\"white-space:pre;overflow-x:auto;line-height:normal;font-family:Menlo,'DejaVu Sans Mono',consolas,'Courier New',monospace\"><span style=\"color: #008080; text-decoration-color: #008080\">使用设备:</span> cuda\n",
       "</pre>\n"
      ],
      "text/plain": [
       "\u001b[36m使用设备:\u001b[0m cuda\n"
      ]
     },
     "metadata": {},
     "output_type": "display_data"
    },
    {
     "data": {
      "text/html": [
       "<pre style=\"white-space:pre;overflow-x:auto;line-height:normal;font-family:Menlo,'DejaVu Sans Mono',consolas,'Courier New',monospace\"><span style=\"color: #008080; text-decoration-color: #008080\">推理配置:</span>\n",
       "</pre>\n"
      ],
      "text/plain": [
       "\u001b[36m推理配置:\u001b[0m\n"
      ]
     },
     "metadata": {},
     "output_type": "display_data"
    },
    {
     "data": {
      "text/html": [
       "<pre style=\"white-space:pre;overflow-x:auto;line-height:normal;font-family:Menlo,'DejaVu Sans Mono',consolas,'Courier New',monospace\">  - 每样本生成数: <span style=\"color: #008080; text-decoration-color: #008080; font-weight: bold\">10</span>\n",
       "</pre>\n"
      ],
      "text/plain": [
       "  - 每样本生成数: \u001b[1;36m10\u001b[0m\n"
      ]
     },
     "metadata": {},
     "output_type": "display_data"
    },
    {
     "data": {
      "text/html": [
       "<pre style=\"white-space:pre;overflow-x:auto;line-height:normal;font-family:Menlo,'DejaVu Sans Mono',consolas,'Courier New',monospace\">  - ODE求解步数: <span style=\"color: #008080; text-decoration-color: #008080; font-weight: bold\">50</span>\n",
       "</pre>\n"
      ],
      "text/plain": [
       "  - ODE求解步数: \u001b[1;36m50\u001b[0m\n"
      ]
     },
     "metadata": {},
     "output_type": "display_data"
    },
    {
     "data": {
      "text/html": [
       "<pre style=\"white-space:pre;overflow-x:auto;line-height:normal;font-family:Menlo,'DejaVu Sans Mono',consolas,'Courier New',monospace\">  - 采样温度: <span style=\"color: #008080; text-decoration-color: #008080; font-weight: bold\">0.8</span>\n",
       "</pre>\n"
      ],
      "text/plain": [
       "  - 采样温度: \u001b[1;36m0.8\u001b[0m\n"
      ]
     },
     "metadata": {},
     "output_type": "display_data"
    }
   ],
   "source": [
    "# 设置设备和路径\n",
    "device = torch.device('cuda' if torch.cuda.is_available() else 'cpu')\n",
    "console.print(f'[cyan]使用设备:[/cyan] {device}')\n",
    "\n",
    "# 模型和数据路径\n",
    "model_path = '/home/ma-user/work/mincycle4csp/outputs/transformer_cfm_20250826_210745/final_model.ckpt'\n",
    "test_data_path = '/home/ma-user/work/mincycle4csp/data/A_sample.pkl'\n",
    "\n",
    "# 检查文件是否存在\n",
    "assert Path(model_path).exists(), f'模型文件不存在: {model_path}'\n",
    "assert Path(test_data_path).exists(), f'测试数据不存在: {test_data_path}'\n",
    "\n",
    "# 推理参数\n",
    "NUM_GENERATIONS = 10  # 每个样本生成10个结构\n",
    "NUM_ODE_STEPS = 50    # ODE求解步数\n",
    "TEMPERATURE = 0.8     # 采样温度\n",
    "BATCH_SIZE = 1        # 批处理大小\n",
    "\n",
    "console.print(f'[cyan]推理配置:[/cyan]')\n",
    "console.print(f'  - 每样本生成数: {NUM_GENERATIONS}')\n",
    "console.print(f'  - ODE求解步数: {NUM_ODE_STEPS}')\n",
    "console.print(f'  - 采样温度: {TEMPERATURE}')"
   ]
  },
  {
   "cell_type": "markdown",
   "metadata": {},
   "source": [
    "## 1. 加载模型"
   ]
  },
  {
   "cell_type": "code",
   "execution_count": 17,
   "metadata": {},
   "outputs": [
    {
     "data": {
      "text/html": [
       "<pre style=\"white-space:pre;overflow-x:auto;line-height:normal;font-family:Menlo,'DejaVu Sans Mono',consolas,'Courier New',monospace\">\n",
       "<span style=\"color: #808000; text-decoration-color: #808000\">正在加载模型...</span>\n",
       "</pre>\n"
      ],
      "text/plain": [
       "\n",
       "\u001b[33m正在加载模型\u001b[0m\u001b[33m...\u001b[0m\n"
      ]
     },
     "metadata": {},
     "output_type": "display_data"
    },
    {
     "data": {
      "text/html": [
       "<pre style=\"white-space:pre;overflow-x:auto;line-height:normal;font-family:Menlo,'DejaVu Sans Mono',consolas,'Courier New',monospace\"><span style=\"color: #008000; text-decoration-color: #008000\">✓ 模型加载成功！参数量: </span><span style=\"color: #008000; text-decoration-color: #008000; font-weight: bold\">77.</span><span style=\"color: #008000; text-decoration-color: #008000\">36M</span>\n",
       "</pre>\n"
      ],
      "text/plain": [
       "\u001b[32m✓ 模型加载成功！参数量: \u001b[0m\u001b[1;32m77.\u001b[0m\u001b[32m36M\u001b[0m\n"
      ]
     },
     "metadata": {},
     "output_type": "display_data"
    }
   ],
   "source": [
    "# 加载checkpoint\n",
    "console.print('\\n[yellow]正在加载模型...[/yellow]')\n",
    "checkpoint = torch.load(model_path, map_location=device, weights_only=False)\n",
    "\n",
    "# 创建网络和流模型\n",
    "network_config = {\n",
    "    'hidden_dim': 512,\n",
    "    'num_layers': 8,\n",
    "    'num_heads': 8,\n",
    "    'dropout': 0.1,\n",
    "    'max_atoms': 52,\n",
    "    'pxrd_dim': 11501\n",
    "}\n",
    "\n",
    "flow_config = {\n",
    "    'sigma_min': 0.001,\n",
    "    'ode_solver': 'dopri5',\n",
    "    'atol': 1e-5,\n",
    "    'rtol': 1e-5,\n",
    "    'lattice_weight': 1.0,\n",
    "    'coord_weight': 1.0\n",
    "}\n",
    "\n",
    "# 初始化网络和流模型\n",
    "network = build_network('transformer', network_config)\n",
    "flow_model = build_flow('cfm', network, flow_config)\n",
    "\n",
    "# 创建trainer并加载权重\n",
    "trainer = CrystalFlowTrainer(\n",
    "    flow_model=flow_model,\n",
    "    learning_rate=1e-4,\n",
    "    weight_decay=1e-5\n",
    ")\n",
    "\n",
    "# 加载模型权重\n",
    "trainer.load_state_dict(checkpoint['state_dict'], strict=False)\n",
    "trainer.to(device)\n",
    "trainer.eval()\n",
    "\n",
    "console.print(f'[green]✓ 模型加载成功！参数量: {sum(p.numel() for p in trainer.parameters())/1e6:.2f}M[/green]')"
   ]
  },
  {
   "cell_type": "markdown",
   "metadata": {},
   "source": [
    "## 2. 加载测试数据"
   ]
  },
  {
   "cell_type": "code",
   "execution_count": 18,
   "metadata": {},
   "outputs": [
    {
     "data": {
      "text/html": [
       "<pre style=\"white-space:pre;overflow-x:auto;line-height:normal;font-family:Menlo,'DejaVu Sans Mono',consolas,'Courier New',monospace\">\n",
       "<span style=\"color: #808000; text-decoration-color: #808000\">正在加载测试数据...</span>\n",
       "</pre>\n"
      ],
      "text/plain": [
       "\n",
       "\u001b[33m正在加载测试数据\u001b[0m\u001b[33m...\u001b[0m\n"
      ]
     },
     "metadata": {},
     "output_type": "display_data"
    },
    {
     "name": "stdout",
     "output_type": "stream",
     "text": [
      "Loading data from /home/ma-user/work/mincycle4csp/data/A_sample.pkl...\n",
      "Loaded 200 samples\n",
      "Sample keys: ['id', 'structure', 'niggli_structure', 'primitive_structure', 'pxrd', 'niggli_comp', 'primitive_comp', 'atom_types', 'num_atoms', 'lattice_matrix', 'frac_coords']\n"
     ]
    },
    {
     "data": {
      "text/html": [
       "<pre style=\"white-space:pre;overflow-x:auto;line-height:normal;font-family:Menlo,'DejaVu Sans Mono',consolas,'Courier New',monospace\"><span style=\"color: #008000; text-decoration-color: #008000\">✓ 成功加载 </span><span style=\"color: #008000; text-decoration-color: #008000; font-weight: bold\">200</span><span style=\"color: #008000; text-decoration-color: #008000\"> 个测试样本</span>\n",
       "</pre>\n"
      ],
      "text/plain": [
       "\u001b[32m✓ 成功加载 \u001b[0m\u001b[1;32m200\u001b[0m\u001b[32m 个测试样本\u001b[0m\n"
      ]
     },
     "metadata": {},
     "output_type": "display_data"
    }
   ],
   "source": [
    "# 加载测试数据集\n",
    "console.print('\\n[yellow]正在加载测试数据...[/yellow]')\n",
    "test_dataset = CrystalDataset(\n",
    "    data_path=test_data_path,\n",
    "    max_atoms=52,\n",
    "    pxrd_dim=11501,\n",
    "    use_niggli=True\n",
    ")\n",
    "\n",
    "console.print(f'[green]✓ 成功加载 {len(test_dataset)} 个测试样本[/green]')"
   ]
  },
  {
   "cell_type": "markdown",
   "metadata": {},
   "source": [
    "## 3. 批量推理与RMSD计算"
   ]
  },
  {
   "cell_type": "code",
   "execution_count": 19,
   "metadata": {},
   "outputs": [],
   "source": [
    "def tensor_to_structure(z_tensor: torch.Tensor, comp: torch.Tensor, num_atoms: int) -> Optional[Structure]:\n",
    "    '''\n",
    "    将张量转换为pymatgen Structure对象\n",
    "    '''\n",
    "    try:\n",
    "        # 提取晶格矩阵\n",
    "        lattice_matrix = z_tensor[:3].cpu().numpy()\n",
    "        \n",
    "        # 提取原子类型和分数坐标  \n",
    "        atom_types = comp[:num_atoms].cpu().numpy().astype(int)\n",
    "        frac_coords = z_tensor[3:3+num_atoms].cpu().numpy()\n",
    "        \n",
    "        # 创建元素列表\n",
    "        species = [Element.from_Z(int(z)) for z in atom_types if z > 0]\n",
    "        \n",
    "        # 创建晶格\n",
    "        lattice = Lattice(lattice_matrix)\n",
    "        \n",
    "        # 创建结构\n",
    "        structure = Structure(lattice, species, frac_coords[:len(species)])\n",
    "        \n",
    "        return structure\n",
    "    except Exception as e:\n",
    "        return None\n",
    "\n",
    "def calculate_rmsd_safe(struct1: Structure, struct2: Structure) -> Tuple[float, float]:\n",
    "    '''\n",
    "    安全计算RMSD，处理异常情况\n",
    "    返回: (distance_rmsd, angle_deviation) 或 (np.inf, np.inf) 如果失败\n",
    "    '''\n",
    "    try:\n",
    "        rmsd_result = rmsd(struct1, struct2)\n",
    "        if rmsd_result is None:\n",
    "            return (np.inf, np.inf)\n",
    "        # rmsd返回tuple: (distance_rmsd, angle_deviation)\n",
    "        if isinstance(rmsd_result, tuple) and len(rmsd_result) >= 2:\n",
    "            return (rmsd_result[0], rmsd_result[1])\n",
    "        elif isinstance(rmsd_result, (float, int)):\n",
    "            return (rmsd_result, 0.0)\n",
    "        else:\n",
    "            return (np.inf, np.inf)\n",
    "    except Exception as e:\n",
    "        return (np.inf, np.inf)"
   ]
  },
  {
   "cell_type": "code",
   "execution_count": 20,
   "metadata": {},
   "outputs": [
    {
     "data": {
      "text/html": [
       "<pre style=\"white-space:pre;overflow-x:auto;line-height:normal;font-family:Menlo,'DejaVu Sans Mono',consolas,'Courier New',monospace\">\n",
       "<span style=\"color: #008080; text-decoration-color: #008080; font-weight: bold\">开始批量推理...</span>\n",
       "</pre>\n"
      ],
      "text/plain": [
       "\n",
       "\u001b[1;36m开始批量推理\u001b[0m\u001b[1;36m...\u001b[0m\n"
      ]
     },
     "metadata": {},
     "output_type": "display_data"
    },
    {
     "data": {
      "text/html": [
       "<pre style=\"white-space:pre;overflow-x:auto;line-height:normal;font-family:Menlo,'DejaVu Sans Mono',consolas,'Courier New',monospace\">总计: <span style=\"color: #008080; text-decoration-color: #008080; font-weight: bold\">200</span> 个样本 × <span style=\"color: #008080; text-decoration-color: #008080; font-weight: bold\">10</span> 次生成 = <span style=\"color: #008080; text-decoration-color: #008080; font-weight: bold\">2000</span> 个结构\n",
       "\n",
       "</pre>\n"
      ],
      "text/plain": [
       "总计: \u001b[1;36m200\u001b[0m 个样本 × \u001b[1;36m10\u001b[0m 次生成 = \u001b[1;36m2000\u001b[0m 个结构\n",
       "\n"
      ]
     },
     "metadata": {},
     "output_type": "display_data"
    },
    {
     "data": {
      "application/vnd.jupyter.widget-view+json": {
       "model_id": "1bed842d212b4bdab665d4cbcffd7e63",
       "version_major": 2,
       "version_minor": 0
      },
      "text/plain": [
       "处理样本:   0%|                                                             | 0/200 [00:00<?, ?it/s]"
      ]
     },
     "metadata": {},
     "output_type": "display_data"
    },
    {
     "data": {
      "text/html": [
       "<pre style=\"white-space:pre;overflow-x:auto;line-height:normal;font-family:Menlo,'DejaVu Sans Mono',consolas,'Courier New',monospace\">\n",
       "<span style=\"color: #008000; text-decoration-color: #008000\">✓ 推理完成！共处理 </span><span style=\"color: #008000; text-decoration-color: #008000; font-weight: bold\">200</span><span style=\"color: #008000; text-decoration-color: #008000\"> 个样本</span>\n",
       "</pre>\n"
      ],
      "text/plain": [
       "\n",
       "\u001b[32m✓ 推理完成！共处理 \u001b[0m\u001b[1;32m200\u001b[0m\u001b[32m 个样本\u001b[0m\n"
      ]
     },
     "metadata": {},
     "output_type": "display_data"
    }
   ],
   "source": [
    "# 对全部200个样本进行推理\n",
    "console.print('\\n[bold cyan]开始批量推理...[/bold cyan]')\n",
    "console.print(f'总计: {len(test_dataset)} 个样本 × {NUM_GENERATIONS} 次生成 = {len(test_dataset) * NUM_GENERATIONS} 个结构\\n')\n",
    "\n",
    "all_results = []\n",
    "\n",
    "# 使用tqdm显示进度\n",
    "with torch.no_grad():\n",
    "    for idx in tqdm(range(len(test_dataset)), desc='处理样本', ncols=100):\n",
    "        sample = test_dataset[idx]\n",
    "        sample_id = sample['id']\n",
    "        num_atoms = int(sample['num_atoms'].item())\n",
    "        \n",
    "        # 准备条件\n",
    "        conditions = {\n",
    "            'comp': sample['comp'].unsqueeze(0).to(device),\n",
    "            'pxrd': sample['pxrd'].unsqueeze(0).to(device),\n",
    "            'num_atoms': sample['num_atoms'].unsqueeze(0).to(device)\n",
    "        }\n",
    "        \n",
    "        # 转换真实结构\n",
    "        true_structure = tensor_to_structure(\n",
    "            sample['z'],\n",
    "            sample['comp'],\n",
    "            num_atoms\n",
    "        )\n",
    "        \n",
    "        if true_structure is None:\n",
    "            console.print(f'[red]样本 {sample_id}: 真实结构转换失败，跳过[/red]')\n",
    "            continue\n",
    "        \n",
    "        # 生成NUM_GENERATIONS个结构并计算RMSD\n",
    "        rmsd_values = []\n",
    "        best_structure = None\n",
    "        best_rmsd = np.inf\n",
    "        \n",
    "        for gen_idx in range(NUM_GENERATIONS):\n",
    "            # 生成结构\n",
    "            generated_z = trainer.sample(\n",
    "                conditions=conditions,\n",
    "                num_steps=NUM_ODE_STEPS,\n",
    "                temperature=TEMPERATURE\n",
    "            )\n",
    "            \n",
    "            # 转换为Structure\n",
    "            gen_structure = tensor_to_structure(\n",
    "                generated_z.squeeze(0),\n",
    "                sample['comp'],\n",
    "                num_atoms\n",
    "            )\n",
    "            \n",
    "            if gen_structure is not None:\n",
    "                # 计算RMSD\n",
    "                dist_rmsd, angle_dev = calculate_rmsd_safe(gen_structure, true_structure)\n",
    "                rmsd_values.append((dist_rmsd, angle_dev))\n",
    "                \n",
    "                # 更新最佳结构（基于距离RMSD）\n",
    "                if dist_rmsd < best_rmsd:\n",
    "                    best_rmsd = dist_rmsd\n",
    "                    best_structure = gen_structure\n",
    "        \n",
    "        # 保存结果\n",
    "        if rmsd_values:\n",
    "            valid_rmsd = [r[0] for r in rmsd_values if r[0] != np.inf]\n",
    "            result = {\n",
    "                'sample_id': sample_id,\n",
    "                'num_atoms': num_atoms,\n",
    "                'num_generations': len(rmsd_values),\n",
    "                'num_valid': len(valid_rmsd),\n",
    "                'best_rmsd': min(valid_rmsd) if valid_rmsd else np.inf,\n",
    "                'mean_rmsd': np.mean(valid_rmsd) if valid_rmsd else np.inf,\n",
    "                'std_rmsd': np.std(valid_rmsd) if valid_rmsd else 0.0,\n",
    "                'all_rmsd': rmsd_values,\n",
    "                'best_structure': best_structure\n",
    "            }\n",
    "        else:\n",
    "            result = {\n",
    "                'sample_id': sample_id,\n",
    "                'num_atoms': num_atoms,\n",
    "                'num_generations': 0,\n",
    "                'num_valid': 0,\n",
    "                'best_rmsd': np.inf,\n",
    "                'mean_rmsd': np.inf,\n",
    "                'std_rmsd': 0.0,\n",
    "                'all_rmsd': [],\n",
    "                'best_structure': None\n",
    "            }\n",
    "        \n",
    "        all_results.append(result)\n",
    "\n",
    "console.print(f'\\n[green]✓ 推理完成！共处理 {len(all_results)} 个样本[/green]')"
   ]
  },
  {
   "cell_type": "markdown",
   "metadata": {},
   "source": [
    "## 4. 结果汇总与分析"
   ]
  },
  {
   "cell_type": "code",
   "execution_count": 21,
   "metadata": {},
   "outputs": [
    {
     "data": {
      "text/html": [
       "<pre style=\"white-space:pre;overflow-x:auto;line-height:normal;font-family:Menlo,'DejaVu Sans Mono',consolas,'Courier New',monospace\">\n",
       "<span style=\"color: #808000; text-decoration-color: #808000; font-weight: bold\">结果汇总</span>\n",
       "\n",
       "</pre>\n"
      ],
      "text/plain": [
       "\n",
       "\u001b[1;33m结果汇总\u001b[0m\n",
       "\n"
      ]
     },
     "metadata": {},
     "output_type": "display_data"
    },
    {
     "data": {
      "text/html": [
       "<pre style=\"white-space:pre;overflow-x:auto;line-height:normal;font-family:Menlo,'DejaVu Sans Mono',consolas,'Courier New',monospace\">有效样本数: <span style=\"color: #008080; text-decoration-color: #008080; font-weight: bold\">14</span>/<span style=\"color: #008080; text-decoration-color: #008080; font-weight: bold\">200</span>\n",
       "</pre>\n"
      ],
      "text/plain": [
       "有效样本数: \u001b[1;36m14\u001b[0m/\u001b[1;36m200\u001b[0m\n"
      ]
     },
     "metadata": {},
     "output_type": "display_data"
    },
    {
     "data": {
      "text/html": [
       "<pre style=\"white-space:pre;overflow-x:auto;line-height:normal;font-family:Menlo,'DejaVu Sans Mono',consolas,'Courier New',monospace\">\n",
       "<span style=\"color: #008080; text-decoration-color: #008080\">最佳RMSD统计:</span>\n",
       "</pre>\n"
      ],
      "text/plain": [
       "\n",
       "\u001b[36m最佳RMSD统计:\u001b[0m\n"
      ]
     },
     "metadata": {},
     "output_type": "display_data"
    },
    {
     "data": {
      "text/html": [
       "<pre style=\"white-space:pre;overflow-x:auto;line-height:normal;font-family:Menlo,'DejaVu Sans Mono',consolas,'Courier New',monospace\">  平均值: <span style=\"color: #008080; text-decoration-color: #008080; font-weight: bold\">0.3954</span> Å\n",
       "</pre>\n"
      ],
      "text/plain": [
       "  平均值: \u001b[1;36m0.3954\u001b[0m Å\n"
      ]
     },
     "metadata": {},
     "output_type": "display_data"
    },
    {
     "data": {
      "text/html": [
       "<pre style=\"white-space:pre;overflow-x:auto;line-height:normal;font-family:Menlo,'DejaVu Sans Mono',consolas,'Courier New',monospace\">  中位数: <span style=\"color: #008080; text-decoration-color: #008080; font-weight: bold\">0.4264</span> Å\n",
       "</pre>\n"
      ],
      "text/plain": [
       "  中位数: \u001b[1;36m0.4264\u001b[0m Å\n"
      ]
     },
     "metadata": {},
     "output_type": "display_data"
    },
    {
     "data": {
      "text/html": [
       "<pre style=\"white-space:pre;overflow-x:auto;line-height:normal;font-family:Menlo,'DejaVu Sans Mono',consolas,'Courier New',monospace\">  标准差: <span style=\"color: #008080; text-decoration-color: #008080; font-weight: bold\">0.0918</span> Å\n",
       "</pre>\n"
      ],
      "text/plain": [
       "  标准差: \u001b[1;36m0.0918\u001b[0m Å\n"
      ]
     },
     "metadata": {},
     "output_type": "display_data"
    },
    {
     "data": {
      "text/html": [
       "<pre style=\"white-space:pre;overflow-x:auto;line-height:normal;font-family:Menlo,'DejaVu Sans Mono',consolas,'Courier New',monospace\">  最小值: <span style=\"color: #008080; text-decoration-color: #008080; font-weight: bold\">0.1312</span> Å\n",
       "</pre>\n"
      ],
      "text/plain": [
       "  最小值: \u001b[1;36m0.1312\u001b[0m Å\n"
      ]
     },
     "metadata": {},
     "output_type": "display_data"
    },
    {
     "data": {
      "text/html": [
       "<pre style=\"white-space:pre;overflow-x:auto;line-height:normal;font-family:Menlo,'DejaVu Sans Mono',consolas,'Courier New',monospace\">  最大值: <span style=\"color: #008080; text-decoration-color: #008080; font-weight: bold\">0.4907</span> Å\n",
       "</pre>\n"
      ],
      "text/plain": [
       "  最大值: \u001b[1;36m0.4907\u001b[0m Å\n"
      ]
     },
     "metadata": {},
     "output_type": "display_data"
    },
    {
     "data": {
      "text/html": [
       "<pre style=\"white-space:pre;overflow-x:auto;line-height:normal;font-family:Menlo,'DejaVu Sans Mono',consolas,'Courier New',monospace\">\n",
       "<span style=\"color: #008000; text-decoration-color: #008000\">Top </span><span style=\"color: #008000; text-decoration-color: #008000; font-weight: bold\">10</span><span style=\"color: #008000; text-decoration-color: #008000\"> 最佳样本:</span>\n",
       "</pre>\n"
      ],
      "text/plain": [
       "\n",
       "\u001b[32mTop \u001b[0m\u001b[1;32m10\u001b[0m\u001b[32m 最佳样本:\u001b[0m\n"
      ]
     },
     "metadata": {},
     "output_type": "display_data"
    },
    {
     "data": {
      "text/html": [
       "<pre style=\"white-space:pre;overflow-x:auto;line-height:normal;font-family:Menlo,'DejaVu Sans Mono',consolas,'Courier New',monospace\">┏━━━━━━┳━━━━━━━━┳━━━━━━━━┳━━━━━━━━━━━━━━┳━━━━━━━━━━━━━━┳━━━━━━━━┓\n",
       "┃<span style=\"color: #800080; text-decoration-color: #800080; font-weight: bold\"> 排名 </span>┃<span style=\"color: #800080; text-decoration-color: #800080; font-weight: bold\"> 样本ID </span>┃<span style=\"color: #800080; text-decoration-color: #800080; font-weight: bold\"> 原子数 </span>┃<span style=\"color: #800080; text-decoration-color: #800080; font-weight: bold\"> 最佳RMSD (Å) </span>┃<span style=\"color: #800080; text-decoration-color: #800080; font-weight: bold\"> 平均RMSD (Å) </span>┃<span style=\"color: #800080; text-decoration-color: #800080; font-weight: bold\"> 标准差 </span>┃\n",
       "┡━━━━━━╇━━━━━━━━╇━━━━━━━━╇━━━━━━━━━━━━━━╇━━━━━━━━━━━━━━╇━━━━━━━━┩\n",
       "│<span style=\"color: #008080; text-decoration-color: #008080\">  1   </span>│<span style=\"color: #808000; text-decoration-color: #808000\"> A-126  </span>│   4    │<span style=\"color: #008000; text-decoration-color: #008000\">       0.1312 </span>│       0.3553 │ 0.1344 │\n",
       "│<span style=\"color: #008080; text-decoration-color: #008080\">  2   </span>│<span style=\"color: #808000; text-decoration-color: #808000\"> A-1785 </span>│   4    │<span style=\"color: #008000; text-decoration-color: #008000\">       0.2617 </span>│       0.3308 │ 0.0685 │\n",
       "│<span style=\"color: #008080; text-decoration-color: #008080\">  3   </span>│<span style=\"color: #808000; text-decoration-color: #808000\"> A-1837 </span>│   5    │<span style=\"color: #008000; text-decoration-color: #008000\">       0.3645 </span>│       0.3645 │ 0.0000 │\n",
       "│<span style=\"color: #008080; text-decoration-color: #008080\">  4   </span>│<span style=\"color: #808000; text-decoration-color: #808000\"> A-1423 </span>│   6    │<span style=\"color: #008000; text-decoration-color: #008000\">       0.3817 </span>│       0.4351 │ 0.0350 │\n",
       "│<span style=\"color: #008080; text-decoration-color: #008080\">  5   </span>│<span style=\"color: #808000; text-decoration-color: #808000\"> A-1271 </span>│   6    │<span style=\"color: #008000; text-decoration-color: #008000\">       0.3897 </span>│       0.4044 │ 0.0206 │\n",
       "│<span style=\"color: #008080; text-decoration-color: #008080\">  6   </span>│<span style=\"color: #808000; text-decoration-color: #808000\"> A-1002 </span>│   6    │<span style=\"color: #008000; text-decoration-color: #008000\">       0.3953 </span>│       0.4440 │ 0.0351 │\n",
       "│<span style=\"color: #008080; text-decoration-color: #008080\">  7   </span>│<span style=\"color: #808000; text-decoration-color: #808000\"> A-1153 </span>│   5    │<span style=\"color: #008000; text-decoration-color: #008000\">       0.4259 </span>│       0.4259 │ 0.0000 │\n",
       "│<span style=\"color: #008080; text-decoration-color: #008080\">  8   </span>│<span style=\"color: #808000; text-decoration-color: #808000\"> A-1385 </span>│   8    │<span style=\"color: #008000; text-decoration-color: #008000\">       0.4269 </span>│       0.4269 │ 0.0000 │\n",
       "│<span style=\"color: #008080; text-decoration-color: #008080\">  9   </span>│<span style=\"color: #808000; text-decoration-color: #808000\"> A-1557 </span>│   6    │<span style=\"color: #008000; text-decoration-color: #008000\">       0.4322 </span>│       0.4322 │ 0.0000 │\n",
       "│<span style=\"color: #008080; text-decoration-color: #008080\">  10  </span>│<span style=\"color: #808000; text-decoration-color: #808000\"> A-375  </span>│   6    │<span style=\"color: #008000; text-decoration-color: #008000\">       0.4432 </span>│       0.4432 │ 0.0000 │\n",
       "└──────┴────────┴────────┴──────────────┴──────────────┴────────┘\n",
       "</pre>\n"
      ],
      "text/plain": [
       "┏━━━━━━┳━━━━━━━━┳━━━━━━━━┳━━━━━━━━━━━━━━┳━━━━━━━━━━━━━━┳━━━━━━━━┓\n",
       "┃\u001b[1;35m \u001b[0m\u001b[1;35m排名\u001b[0m\u001b[1;35m \u001b[0m┃\u001b[1;35m \u001b[0m\u001b[1;35m样本ID\u001b[0m\u001b[1;35m \u001b[0m┃\u001b[1;35m \u001b[0m\u001b[1;35m原子数\u001b[0m\u001b[1;35m \u001b[0m┃\u001b[1;35m \u001b[0m\u001b[1;35m最佳RMSD (Å)\u001b[0m\u001b[1;35m \u001b[0m┃\u001b[1;35m \u001b[0m\u001b[1;35m平均RMSD (Å)\u001b[0m\u001b[1;35m \u001b[0m┃\u001b[1;35m \u001b[0m\u001b[1;35m标准差\u001b[0m\u001b[1;35m \u001b[0m┃\n",
       "┡━━━━━━╇━━━━━━━━╇━━━━━━━━╇━━━━━━━━━━━━━━╇━━━━━━━━━━━━━━╇━━━━━━━━┩\n",
       "│\u001b[36m \u001b[0m\u001b[36m 1  \u001b[0m\u001b[36m \u001b[0m│\u001b[33m \u001b[0m\u001b[33mA-126 \u001b[0m\u001b[33m \u001b[0m│   4    │\u001b[32m \u001b[0m\u001b[32m      0.1312\u001b[0m\u001b[32m \u001b[0m│       0.3553 │ 0.1344 │\n",
       "│\u001b[36m \u001b[0m\u001b[36m 2  \u001b[0m\u001b[36m \u001b[0m│\u001b[33m \u001b[0m\u001b[33mA-1785\u001b[0m\u001b[33m \u001b[0m│   4    │\u001b[32m \u001b[0m\u001b[32m      0.2617\u001b[0m\u001b[32m \u001b[0m│       0.3308 │ 0.0685 │\n",
       "│\u001b[36m \u001b[0m\u001b[36m 3  \u001b[0m\u001b[36m \u001b[0m│\u001b[33m \u001b[0m\u001b[33mA-1837\u001b[0m\u001b[33m \u001b[0m│   5    │\u001b[32m \u001b[0m\u001b[32m      0.3645\u001b[0m\u001b[32m \u001b[0m│       0.3645 │ 0.0000 │\n",
       "│\u001b[36m \u001b[0m\u001b[36m 4  \u001b[0m\u001b[36m \u001b[0m│\u001b[33m \u001b[0m\u001b[33mA-1423\u001b[0m\u001b[33m \u001b[0m│   6    │\u001b[32m \u001b[0m\u001b[32m      0.3817\u001b[0m\u001b[32m \u001b[0m│       0.4351 │ 0.0350 │\n",
       "│\u001b[36m \u001b[0m\u001b[36m 5  \u001b[0m\u001b[36m \u001b[0m│\u001b[33m \u001b[0m\u001b[33mA-1271\u001b[0m\u001b[33m \u001b[0m│   6    │\u001b[32m \u001b[0m\u001b[32m      0.3897\u001b[0m\u001b[32m \u001b[0m│       0.4044 │ 0.0206 │\n",
       "│\u001b[36m \u001b[0m\u001b[36m 6  \u001b[0m\u001b[36m \u001b[0m│\u001b[33m \u001b[0m\u001b[33mA-1002\u001b[0m\u001b[33m \u001b[0m│   6    │\u001b[32m \u001b[0m\u001b[32m      0.3953\u001b[0m\u001b[32m \u001b[0m│       0.4440 │ 0.0351 │\n",
       "│\u001b[36m \u001b[0m\u001b[36m 7  \u001b[0m\u001b[36m \u001b[0m│\u001b[33m \u001b[0m\u001b[33mA-1153\u001b[0m\u001b[33m \u001b[0m│   5    │\u001b[32m \u001b[0m\u001b[32m      0.4259\u001b[0m\u001b[32m \u001b[0m│       0.4259 │ 0.0000 │\n",
       "│\u001b[36m \u001b[0m\u001b[36m 8  \u001b[0m\u001b[36m \u001b[0m│\u001b[33m \u001b[0m\u001b[33mA-1385\u001b[0m\u001b[33m \u001b[0m│   8    │\u001b[32m \u001b[0m\u001b[32m      0.4269\u001b[0m\u001b[32m \u001b[0m│       0.4269 │ 0.0000 │\n",
       "│\u001b[36m \u001b[0m\u001b[36m 9  \u001b[0m\u001b[36m \u001b[0m│\u001b[33m \u001b[0m\u001b[33mA-1557\u001b[0m\u001b[33m \u001b[0m│   6    │\u001b[32m \u001b[0m\u001b[32m      0.4322\u001b[0m\u001b[32m \u001b[0m│       0.4322 │ 0.0000 │\n",
       "│\u001b[36m \u001b[0m\u001b[36m 10 \u001b[0m\u001b[36m \u001b[0m│\u001b[33m \u001b[0m\u001b[33mA-375 \u001b[0m\u001b[33m \u001b[0m│   6    │\u001b[32m \u001b[0m\u001b[32m      0.4432\u001b[0m\u001b[32m \u001b[0m│       0.4432 │ 0.0000 │\n",
       "└──────┴────────┴────────┴──────────────┴──────────────┴────────┘\n"
      ]
     },
     "metadata": {},
     "output_type": "display_data"
    },
    {
     "data": {
      "text/html": [
       "<pre style=\"white-space:pre;overflow-x:auto;line-height:normal;font-family:Menlo,'DejaVu Sans Mono',consolas,'Courier New',monospace\">\n",
       "<span style=\"color: #800000; text-decoration-color: #800000\">Bottom </span><span style=\"color: #800000; text-decoration-color: #800000; font-weight: bold\">10</span><span style=\"color: #800000; text-decoration-color: #800000\"> 最差样本:</span>\n",
       "</pre>\n"
      ],
      "text/plain": [
       "\n",
       "\u001b[31mBottom \u001b[0m\u001b[1;31m10\u001b[0m\u001b[31m 最差样本:\u001b[0m\n"
      ]
     },
     "metadata": {},
     "output_type": "display_data"
    },
    {
     "data": {
      "text/html": [
       "<pre style=\"white-space:pre;overflow-x:auto;line-height:normal;font-family:Menlo,'DejaVu Sans Mono',consolas,'Courier New',monospace\">┏━━━━━━┳━━━━━━━━┳━━━━━━━━┳━━━━━━━━━━━━━━┳━━━━━━━━━━━━━━┳━━━━━━━━┓\n",
       "┃<span style=\"color: #800080; text-decoration-color: #800080; font-weight: bold\"> 排名 </span>┃<span style=\"color: #800080; text-decoration-color: #800080; font-weight: bold\"> 样本ID </span>┃<span style=\"color: #800080; text-decoration-color: #800080; font-weight: bold\"> 原子数 </span>┃<span style=\"color: #800080; text-decoration-color: #800080; font-weight: bold\"> 最佳RMSD (Å) </span>┃<span style=\"color: #800080; text-decoration-color: #800080; font-weight: bold\"> 平均RMSD (Å) </span>┃<span style=\"color: #800080; text-decoration-color: #800080; font-weight: bold\"> 标准差 </span>┃\n",
       "┡━━━━━━╇━━━━━━━━╇━━━━━━━━╇━━━━━━━━━━━━━━╇━━━━━━━━━━━━━━╇━━━━━━━━┩\n",
       "│<span style=\"color: #008080; text-decoration-color: #008080\">  5   </span>│<span style=\"color: #808000; text-decoration-color: #808000\"> A-1271 </span>│   6    │<span style=\"color: #800000; text-decoration-color: #800000\">       0.3897 </span>│       0.4044 │ 0.0206 │\n",
       "│<span style=\"color: #008080; text-decoration-color: #008080\">  6   </span>│<span style=\"color: #808000; text-decoration-color: #808000\"> A-1002 </span>│   6    │<span style=\"color: #800000; text-decoration-color: #800000\">       0.3953 </span>│       0.4440 │ 0.0351 │\n",
       "│<span style=\"color: #008080; text-decoration-color: #008080\">  7   </span>│<span style=\"color: #808000; text-decoration-color: #808000\"> A-1153 </span>│   5    │<span style=\"color: #800000; text-decoration-color: #800000\">       0.4259 </span>│       0.4259 │ 0.0000 │\n",
       "│<span style=\"color: #008080; text-decoration-color: #008080\">  8   </span>│<span style=\"color: #808000; text-decoration-color: #808000\"> A-1385 </span>│   8    │<span style=\"color: #800000; text-decoration-color: #800000\">       0.4269 </span>│       0.4269 │ 0.0000 │\n",
       "│<span style=\"color: #008080; text-decoration-color: #008080\">  9   </span>│<span style=\"color: #808000; text-decoration-color: #808000\"> A-1557 </span>│   6    │<span style=\"color: #800000; text-decoration-color: #800000\">       0.4322 </span>│       0.4322 │ 0.0000 │\n",
       "│<span style=\"color: #008080; text-decoration-color: #008080\">  10  </span>│<span style=\"color: #808000; text-decoration-color: #808000\"> A-375  </span>│   6    │<span style=\"color: #800000; text-decoration-color: #800000\">       0.4432 </span>│       0.4432 │ 0.0000 │\n",
       "│<span style=\"color: #008080; text-decoration-color: #008080\">  11  </span>│<span style=\"color: #808000; text-decoration-color: #808000\"> A-1080 </span>│   5    │<span style=\"color: #800000; text-decoration-color: #800000\">       0.4527 </span>│       0.4643 │ 0.0084 │\n",
       "│<span style=\"color: #008080; text-decoration-color: #008080\">  12  </span>│<span style=\"color: #808000; text-decoration-color: #808000\"> A-1149 </span>│   5    │<span style=\"color: #800000; text-decoration-color: #800000\">       0.4612 </span>│       0.4615 │ 0.0003 │\n",
       "│<span style=\"color: #008080; text-decoration-color: #008080\">  13  </span>│<span style=\"color: #808000; text-decoration-color: #808000\"> A-15   </span>│   5    │<span style=\"color: #800000; text-decoration-color: #800000\">       0.4788 </span>│       0.4788 │ 0.0000 │\n",
       "│<span style=\"color: #008080; text-decoration-color: #008080\">  14  </span>│<span style=\"color: #808000; text-decoration-color: #808000\"> A-923  </span>│   6    │<span style=\"color: #800000; text-decoration-color: #800000\">       0.4907 </span>│       0.4907 │ 0.0000 │\n",
       "└──────┴────────┴────────┴──────────────┴──────────────┴────────┘\n",
       "</pre>\n"
      ],
      "text/plain": [
       "┏━━━━━━┳━━━━━━━━┳━━━━━━━━┳━━━━━━━━━━━━━━┳━━━━━━━━━━━━━━┳━━━━━━━━┓\n",
       "┃\u001b[1;35m \u001b[0m\u001b[1;35m排名\u001b[0m\u001b[1;35m \u001b[0m┃\u001b[1;35m \u001b[0m\u001b[1;35m样本ID\u001b[0m\u001b[1;35m \u001b[0m┃\u001b[1;35m \u001b[0m\u001b[1;35m原子数\u001b[0m\u001b[1;35m \u001b[0m┃\u001b[1;35m \u001b[0m\u001b[1;35m最佳RMSD (Å)\u001b[0m\u001b[1;35m \u001b[0m┃\u001b[1;35m \u001b[0m\u001b[1;35m平均RMSD (Å)\u001b[0m\u001b[1;35m \u001b[0m┃\u001b[1;35m \u001b[0m\u001b[1;35m标准差\u001b[0m\u001b[1;35m \u001b[0m┃\n",
       "┡━━━━━━╇━━━━━━━━╇━━━━━━━━╇━━━━━━━━━━━━━━╇━━━━━━━━━━━━━━╇━━━━━━━━┩\n",
       "│\u001b[36m \u001b[0m\u001b[36m 5  \u001b[0m\u001b[36m \u001b[0m│\u001b[33m \u001b[0m\u001b[33mA-1271\u001b[0m\u001b[33m \u001b[0m│   6    │\u001b[31m \u001b[0m\u001b[31m      0.3897\u001b[0m\u001b[31m \u001b[0m│       0.4044 │ 0.0206 │\n",
       "│\u001b[36m \u001b[0m\u001b[36m 6  \u001b[0m\u001b[36m \u001b[0m│\u001b[33m \u001b[0m\u001b[33mA-1002\u001b[0m\u001b[33m \u001b[0m│   6    │\u001b[31m \u001b[0m\u001b[31m      0.3953\u001b[0m\u001b[31m \u001b[0m│       0.4440 │ 0.0351 │\n",
       "│\u001b[36m \u001b[0m\u001b[36m 7  \u001b[0m\u001b[36m \u001b[0m│\u001b[33m \u001b[0m\u001b[33mA-1153\u001b[0m\u001b[33m \u001b[0m│   5    │\u001b[31m \u001b[0m\u001b[31m      0.4259\u001b[0m\u001b[31m \u001b[0m│       0.4259 │ 0.0000 │\n",
       "│\u001b[36m \u001b[0m\u001b[36m 8  \u001b[0m\u001b[36m \u001b[0m│\u001b[33m \u001b[0m\u001b[33mA-1385\u001b[0m\u001b[33m \u001b[0m│   8    │\u001b[31m \u001b[0m\u001b[31m      0.4269\u001b[0m\u001b[31m \u001b[0m│       0.4269 │ 0.0000 │\n",
       "│\u001b[36m \u001b[0m\u001b[36m 9  \u001b[0m\u001b[36m \u001b[0m│\u001b[33m \u001b[0m\u001b[33mA-1557\u001b[0m\u001b[33m \u001b[0m│   6    │\u001b[31m \u001b[0m\u001b[31m      0.4322\u001b[0m\u001b[31m \u001b[0m│       0.4322 │ 0.0000 │\n",
       "│\u001b[36m \u001b[0m\u001b[36m 10 \u001b[0m\u001b[36m \u001b[0m│\u001b[33m \u001b[0m\u001b[33mA-375 \u001b[0m\u001b[33m \u001b[0m│   6    │\u001b[31m \u001b[0m\u001b[31m      0.4432\u001b[0m\u001b[31m \u001b[0m│       0.4432 │ 0.0000 │\n",
       "│\u001b[36m \u001b[0m\u001b[36m 11 \u001b[0m\u001b[36m \u001b[0m│\u001b[33m \u001b[0m\u001b[33mA-1080\u001b[0m\u001b[33m \u001b[0m│   5    │\u001b[31m \u001b[0m\u001b[31m      0.4527\u001b[0m\u001b[31m \u001b[0m│       0.4643 │ 0.0084 │\n",
       "│\u001b[36m \u001b[0m\u001b[36m 12 \u001b[0m\u001b[36m \u001b[0m│\u001b[33m \u001b[0m\u001b[33mA-1149\u001b[0m\u001b[33m \u001b[0m│   5    │\u001b[31m \u001b[0m\u001b[31m      0.4612\u001b[0m\u001b[31m \u001b[0m│       0.4615 │ 0.0003 │\n",
       "│\u001b[36m \u001b[0m\u001b[36m 13 \u001b[0m\u001b[36m \u001b[0m│\u001b[33m \u001b[0m\u001b[33mA-15  \u001b[0m\u001b[33m \u001b[0m│   5    │\u001b[31m \u001b[0m\u001b[31m      0.4788\u001b[0m\u001b[31m \u001b[0m│       0.4788 │ 0.0000 │\n",
       "│\u001b[36m \u001b[0m\u001b[36m 14 \u001b[0m\u001b[36m \u001b[0m│\u001b[33m \u001b[0m\u001b[33mA-923 \u001b[0m\u001b[33m \u001b[0m│   6    │\u001b[31m \u001b[0m\u001b[31m      0.4907\u001b[0m\u001b[31m \u001b[0m│       0.4907 │ 0.0000 │\n",
       "└──────┴────────┴────────┴──────────────┴──────────────┴────────┘\n"
      ]
     },
     "metadata": {},
     "output_type": "display_data"
    }
   ],
   "source": [
    "# 汇总统计\n",
    "console.print('\\n[bold yellow]结果汇总[/bold yellow]\\n')\n",
    "\n",
    "# 筛选有效结果\n",
    "valid_results = [r for r in all_results if r['best_rmsd'] != np.inf]\n",
    "console.print(f'有效样本数: {len(valid_results)}/{len(all_results)}')\n",
    "\n",
    "if valid_results:\n",
    "    # 计算整体统计\n",
    "    all_best_rmsd = [r['best_rmsd'] for r in valid_results]\n",
    "    all_mean_rmsd = [r['mean_rmsd'] for r in valid_results]\n",
    "    \n",
    "    console.print(f'\\n[cyan]最佳RMSD统计:[/cyan]')\n",
    "    console.print(f'  平均值: {np.mean(all_best_rmsd):.4f} Å')\n",
    "    console.print(f'  中位数: {np.median(all_best_rmsd):.4f} Å')\n",
    "    console.print(f'  标准差: {np.std(all_best_rmsd):.4f} Å')\n",
    "    console.print(f'  最小值: {np.min(all_best_rmsd):.4f} Å')\n",
    "    console.print(f'  最大值: {np.max(all_best_rmsd):.4f} Å')\n",
    "    \n",
    "    # 按最佳RMSD排序\n",
    "    sorted_results = sorted(valid_results, key=lambda x: x['best_rmsd'])\n",
    "    \n",
    "    # 显示最好的10个样本\n",
    "    console.print(f'\\n[green]Top 10 最佳样本:[/green]')\n",
    "    table = Table(show_header=True, header_style='bold magenta')\n",
    "    table.add_column('排名', style='cyan', justify='center')\n",
    "    table.add_column('样本ID', style='yellow')\n",
    "    table.add_column('原子数', justify='center')\n",
    "    table.add_column('最佳RMSD (Å)', justify='right', style='green')\n",
    "    table.add_column('平均RMSD (Å)', justify='right')\n",
    "    table.add_column('标准差', justify='right')\n",
    "    \n",
    "    for i, result in enumerate(sorted_results[:10]):\n",
    "        table.add_row(\n",
    "            str(i+1),\n",
    "            str(result['sample_id']),\n",
    "            str(result['num_atoms']),\n",
    "            f\"{result['best_rmsd']:.4f}\",\n",
    "            f\"{result['mean_rmsd']:.4f}\",\n",
    "            f\"{result['std_rmsd']:.4f}\"\n",
    "        )\n",
    "    \n",
    "    console.print(table)\n",
    "    \n",
    "    # 显示最差的10个样本\n",
    "    console.print(f'\\n[red]Bottom 10 最差样本:[/red]')\n",
    "    table2 = Table(show_header=True, header_style='bold magenta')\n",
    "    table2.add_column('排名', style='cyan', justify='center')\n",
    "    table2.add_column('样本ID', style='yellow')\n",
    "    table2.add_column('原子数', justify='center')\n",
    "    table2.add_column('最佳RMSD (Å)', justify='right', style='red')\n",
    "    table2.add_column('平均RMSD (Å)', justify='right')\n",
    "    table2.add_column('标准差', justify='right')\n",
    "    \n",
    "    for i, result in enumerate(sorted_results[-10:]):\n",
    "        table2.add_row(\n",
    "            str(len(sorted_results)-9+i),\n",
    "            str(result['sample_id']),\n",
    "            str(result['num_atoms']),\n",
    "            f\"{result['best_rmsd']:.4f}\",\n",
    "            f\"{result['mean_rmsd']:.4f}\",\n",
    "            f\"{result['std_rmsd']:.4f}\"\n",
    "        )\n",
    "    \n",
    "    console.print(table2)"
   ]
  },
  {
   "cell_type": "markdown",
   "metadata": {},
   "source": [
    "## 5. RMSD分布可视化"
   ]
  },
  {
   "cell_type": "code",
   "execution_count": 22,
   "metadata": {},
   "outputs": [
    {
     "data": {
      "image/png": "[encoded data removed]",
      "text/plain": [
       "<Figure size 1400x1000 with 4 Axes>"
      ]
     },
     "metadata": {},
     "output_type": "display_data"
    },
    {
     "data": {
      "text/html": [
       "<pre style=\"white-space:pre;overflow-x:auto;line-height:normal;font-family:Menlo,'DejaVu Sans Mono',consolas,'Courier New',monospace\">\n",
       "<span style=\"color: #008080; text-decoration-color: #008080\">RMSD阈值统计:</span>\n",
       "</pre>\n"
      ],
      "text/plain": [
       "\n",
       "\u001b[36mRMSD阈值统计:\u001b[0m\n"
      ]
     },
     "metadata": {},
     "output_type": "display_data"
    },
    {
     "data": {
      "text/html": [
       "<pre style=\"white-space:pre;overflow-x:auto;line-height:normal;font-family:Menlo,'DejaVu Sans Mono',consolas,'Courier New',monospace\">  RMSD ≤ <span style=\"color: #008080; text-decoration-color: #008080; font-weight: bold\">0.1</span> Å: <span style=\"color: #008080; text-decoration-color: #008080; font-weight: bold\">0</span>/<span style=\"color: #008080; text-decoration-color: #008080; font-weight: bold\">14</span> <span style=\"font-weight: bold\">(</span><span style=\"color: #008080; text-decoration-color: #008080; font-weight: bold\">0.0</span>%<span style=\"font-weight: bold\">)</span>\n",
       "</pre>\n"
      ],
      "text/plain": [
       "  RMSD ≤ \u001b[1;36m0.1\u001b[0m Å: \u001b[1;36m0\u001b[0m/\u001b[1;36m14\u001b[0m \u001b[1m(\u001b[0m\u001b[1;36m0.0\u001b[0m%\u001b[1m)\u001b[0m\n"
      ]
     },
     "metadata": {},
     "output_type": "display_data"
    },
    {
     "data": {
      "text/html": [
       "<pre style=\"white-space:pre;overflow-x:auto;line-height:normal;font-family:Menlo,'DejaVu Sans Mono',consolas,'Courier New',monospace\">  RMSD ≤ <span style=\"color: #008080; text-decoration-color: #008080; font-weight: bold\">0.2</span> Å: <span style=\"color: #008080; text-decoration-color: #008080; font-weight: bold\">1</span>/<span style=\"color: #008080; text-decoration-color: #008080; font-weight: bold\">14</span> <span style=\"font-weight: bold\">(</span><span style=\"color: #008080; text-decoration-color: #008080; font-weight: bold\">7.1</span>%<span style=\"font-weight: bold\">)</span>\n",
       "</pre>\n"
      ],
      "text/plain": [
       "  RMSD ≤ \u001b[1;36m0.2\u001b[0m Å: \u001b[1;36m1\u001b[0m/\u001b[1;36m14\u001b[0m \u001b[1m(\u001b[0m\u001b[1;36m7.1\u001b[0m%\u001b[1m)\u001b[0m\n"
      ]
     },
     "metadata": {},
     "output_type": "display_data"
    },
    {
     "data": {
      "text/html": [
       "<pre style=\"white-space:pre;overflow-x:auto;line-height:normal;font-family:Menlo,'DejaVu Sans Mono',consolas,'Courier New',monospace\">  RMSD ≤ <span style=\"color: #008080; text-decoration-color: #008080; font-weight: bold\">0.3</span> Å: <span style=\"color: #008080; text-decoration-color: #008080; font-weight: bold\">2</span>/<span style=\"color: #008080; text-decoration-color: #008080; font-weight: bold\">14</span> <span style=\"font-weight: bold\">(</span><span style=\"color: #008080; text-decoration-color: #008080; font-weight: bold\">14.3</span>%<span style=\"font-weight: bold\">)</span>\n",
       "</pre>\n"
      ],
      "text/plain": [
       "  RMSD ≤ \u001b[1;36m0.3\u001b[0m Å: \u001b[1;36m2\u001b[0m/\u001b[1;36m14\u001b[0m \u001b[1m(\u001b[0m\u001b[1;36m14.3\u001b[0m%\u001b[1m)\u001b[0m\n"
      ]
     },
     "metadata": {},
     "output_type": "display_data"
    },
    {
     "data": {
      "text/html": [
       "<pre style=\"white-space:pre;overflow-x:auto;line-height:normal;font-family:Menlo,'DejaVu Sans Mono',consolas,'Courier New',monospace\">  RMSD ≤ <span style=\"color: #008080; text-decoration-color: #008080; font-weight: bold\">0.5</span> Å: <span style=\"color: #008080; text-decoration-color: #008080; font-weight: bold\">14</span>/<span style=\"color: #008080; text-decoration-color: #008080; font-weight: bold\">14</span> <span style=\"font-weight: bold\">(</span><span style=\"color: #008080; text-decoration-color: #008080; font-weight: bold\">100.0</span>%<span style=\"font-weight: bold\">)</span>\n",
       "</pre>\n"
      ],
      "text/plain": [
       "  RMSD ≤ \u001b[1;36m0.5\u001b[0m Å: \u001b[1;36m14\u001b[0m/\u001b[1;36m14\u001b[0m \u001b[1m(\u001b[0m\u001b[1;36m100.0\u001b[0m%\u001b[1m)\u001b[0m\n"
      ]
     },
     "metadata": {},
     "output_type": "display_data"
    },
    {
     "data": {
      "text/html": [
       "<pre style=\"white-space:pre;overflow-x:auto;line-height:normal;font-family:Menlo,'DejaVu Sans Mono',consolas,'Courier New',monospace\">  RMSD ≤ <span style=\"color: #008080; text-decoration-color: #008080; font-weight: bold\">1.0</span> Å: <span style=\"color: #008080; text-decoration-color: #008080; font-weight: bold\">14</span>/<span style=\"color: #008080; text-decoration-color: #008080; font-weight: bold\">14</span> <span style=\"font-weight: bold\">(</span><span style=\"color: #008080; text-decoration-color: #008080; font-weight: bold\">100.0</span>%<span style=\"font-weight: bold\">)</span>\n",
       "</pre>\n"
      ],
      "text/plain": [
       "  RMSD ≤ \u001b[1;36m1.0\u001b[0m Å: \u001b[1;36m14\u001b[0m/\u001b[1;36m14\u001b[0m \u001b[1m(\u001b[0m\u001b[1;36m100.0\u001b[0m%\u001b[1m)\u001b[0m\n"
      ]
     },
     "metadata": {},
     "output_type": "display_data"
    },
    {
     "data": {
      "text/html": [
       "<pre style=\"white-space:pre;overflow-x:auto;line-height:normal;font-family:Menlo,'DejaVu Sans Mono',consolas,'Courier New',monospace\">  RMSD ≤ <span style=\"color: #008080; text-decoration-color: #008080; font-weight: bold\">2.0</span> Å: <span style=\"color: #008080; text-decoration-color: #008080; font-weight: bold\">14</span>/<span style=\"color: #008080; text-decoration-color: #008080; font-weight: bold\">14</span> <span style=\"font-weight: bold\">(</span><span style=\"color: #008080; text-decoration-color: #008080; font-weight: bold\">100.0</span>%<span style=\"font-weight: bold\">)</span>\n",
       "</pre>\n"
      ],
      "text/plain": [
       "  RMSD ≤ \u001b[1;36m2.0\u001b[0m Å: \u001b[1;36m14\u001b[0m/\u001b[1;36m14\u001b[0m \u001b[1m(\u001b[0m\u001b[1;36m100.0\u001b[0m%\u001b[1m)\u001b[0m\n"
      ]
     },
     "metadata": {},
     "output_type": "display_data"
    }
   ],
   "source": [
    "if valid_results:\n",
    "    # 绘制RMSD分布\n",
    "    fig, axes = plt.subplots(2, 2, figsize=(14, 10))\n",
    "    \n",
    "    # 1. 最佳RMSD直方图\n",
    "    axes[0, 0].hist(all_best_rmsd, bins=30, edgecolor='black', alpha=0.7, color='skyblue')\n",
    "    axes[0, 0].axvline(np.mean(all_best_rmsd), color='r', linestyle='--', linewidth=2, \n",
    "                       label=f'Mean: {np.mean(all_best_rmsd):.3f}')\n",
    "    axes[0, 0].axvline(np.median(all_best_rmsd), color='g', linestyle='--', linewidth=2,\n",
    "                       label=f'Median: {np.median(all_best_rmsd):.3f}')\n",
    "    axes[0, 0].set_xlabel('Best RMSD (Å)', fontsize=12)\n",
    "    axes[0, 0].set_ylabel('Count', fontsize=12)\n",
    "    axes[0, 0].set_title('Distribution of Best RMSD', fontsize=14, fontweight='bold')\n",
    "    axes[0, 0].legend()\n",
    "    axes[0, 0].grid(True, alpha=0.3)\n",
    "    \n",
    "    # 2. 平均RMSD直方图\n",
    "    axes[0, 1].hist(all_mean_rmsd, bins=30, edgecolor='black', alpha=0.7, color='lightcoral')\n",
    "    axes[0, 1].axvline(np.mean(all_mean_rmsd), color='r', linestyle='--', linewidth=2,\n",
    "                       label=f'Mean: {np.mean(all_mean_rmsd):.3f}')\n",
    "    axes[0, 1].set_xlabel('Mean RMSD (Å)', fontsize=12)\n",
    "    axes[0, 1].set_ylabel('Count', fontsize=12)\n",
    "    axes[0, 1].set_title('Distribution of Mean RMSD', fontsize=14, fontweight='bold')\n",
    "    axes[0, 1].legend()\n",
    "    axes[0, 1].grid(True, alpha=0.3)\n",
    "    \n",
    "    # 3. RMSD vs 原子数\n",
    "    atom_counts = [r['num_atoms'] for r in valid_results]\n",
    "    axes[1, 0].scatter(atom_counts, all_best_rmsd, alpha=0.6, s=20)\n",
    "    axes[1, 0].set_xlabel('Number of Atoms', fontsize=12)\n",
    "    axes[1, 0].set_ylabel('Best RMSD (Å)', fontsize=12)\n",
    "    axes[1, 0].set_title('Best RMSD vs Number of Atoms', fontsize=14, fontweight='bold')\n",
    "    axes[1, 0].grid(True, alpha=0.3)\n",
    "    \n",
    "    # 4. 累积分布\n",
    "    sorted_rmsd = np.sort(all_best_rmsd)\n",
    "    cumulative = np.arange(1, len(sorted_rmsd) + 1) / len(sorted_rmsd)\n",
    "    axes[1, 1].plot(sorted_rmsd, cumulative, linewidth=2, color='purple')\n",
    "    axes[1, 1].set_xlabel('Best RMSD (Å)', fontsize=12)\n",
    "    axes[1, 1].set_ylabel('Cumulative Probability', fontsize=12)\n",
    "    axes[1, 1].set_title('Cumulative Distribution of Best RMSD', fontsize=14, fontweight='bold')\n",
    "    axes[1, 1].grid(True, alpha=0.3)\n",
    "    \n",
    "    # 添加一些参考线\n",
    "    for threshold in [0.1, 0.2, 0.3, 0.5, 1.0]:\n",
    "        frac = np.mean(np.array(all_best_rmsd) <= threshold)\n",
    "        axes[1, 1].axhline(frac, color='gray', linestyle=':', alpha=0.5)\n",
    "        axes[1, 1].axvline(threshold, color='gray', linestyle=':', alpha=0.5)\n",
    "        axes[1, 1].text(threshold, 0.02, f'{threshold}', fontsize=8, ha='center')\n",
    "    \n",
    "    plt.tight_layout()\n",
    "    plt.show()\n",
    "    \n",
    "    # 打印阈值统计\n",
    "    console.print(f'\\n[cyan]RMSD阈值统计:[/cyan]')\n",
    "    for threshold in [0.1, 0.2, 0.3, 0.5, 1.0, 2.0]:\n",
    "        count = sum(1 for r in all_best_rmsd if r <= threshold)\n",
    "        percentage = count / len(all_best_rmsd) * 100\n",
    "        console.print(f'  RMSD ≤ {threshold:.1f} Å: {count}/{len(all_best_rmsd)} ({percentage:.1f}%)')"
   ]
  },
  {
   "cell_type": "markdown",
   "metadata": {},
   "source": [
    "## 6. 保存结果"
   ]
  },
  {
   "cell_type": "code",
   "execution_count": 23,
   "metadata": {},
   "outputs": [
    {
     "data": {
      "text/html": [
       "<pre style=\"white-space:pre;overflow-x:auto;line-height:normal;font-family:Menlo,'DejaVu Sans Mono',consolas,'Courier New',monospace\">\n",
       "<span style=\"color: #008000; text-decoration-color: #008000\">✓ 结果已保存到: /home/ma-user/work/mincycle4csp/outputs/inference_results/inference_results.csv</span>\n",
       "</pre>\n"
      ],
      "text/plain": [
       "\n",
       "\u001b[32m✓ 结果已保存到: \u001b[0m\u001b[32m/home/ma-user/work/mincycle4csp/outputs/inference_results/\u001b[0m\u001b[32minference_results.csv\u001b[0m\n"
      ]
     },
     "metadata": {},
     "output_type": "display_data"
    },
    {
     "data": {
      "text/html": [
       "<pre style=\"white-space:pre;overflow-x:auto;line-height:normal;font-family:Menlo,'DejaVu Sans Mono',consolas,'Courier New',monospace\">\n",
       "<span style=\"color: #808000; text-decoration-color: #808000\">保存最佳结构CIF文件...</span>\n",
       "</pre>\n"
      ],
      "text/plain": [
       "\n",
       "\u001b[33m保存最佳结构CIF文件\u001b[0m\u001b[33m...\u001b[0m\n"
      ]
     },
     "metadata": {},
     "output_type": "display_data"
    },
    {
     "data": {
      "text/html": [
       "<pre style=\"white-space:pre;overflow-x:auto;line-height:normal;font-family:Menlo,'DejaVu Sans Mono',consolas,'Courier New',monospace\"><span style=\"color: #008000; text-decoration-color: #008000\">✓ 已保存 </span><span style=\"color: #008000; text-decoration-color: #008000; font-weight: bold\">10</span><span style=\"color: #008000; text-decoration-color: #008000\"> 个最佳结构CIF文件</span>\n",
       "</pre>\n"
      ],
      "text/plain": [
       "\u001b[32m✓ 已保存 \u001b[0m\u001b[1;32m10\u001b[0m\u001b[32m 个最佳结构CIF文件\u001b[0m\n"
      ]
     },
     "metadata": {},
     "output_type": "display_data"
    },
    {
     "data": {
      "text/html": [
       "<pre style=\"white-space:pre;overflow-x:auto;line-height:normal;font-family:Menlo,'DejaVu Sans Mono',consolas,'Courier New',monospace\"><span style=\"color: #008000; text-decoration-color: #008000\">✓ 完整结果已保存到: /home/ma-user/work/mincycle4csp/outputs/inference_results/inference_results_full.pkl</span>\n",
       "</pre>\n"
      ],
      "text/plain": [
       "\u001b[32m✓ 完整结果已保存到: \u001b[0m\u001b[32m/home/ma-user/work/mincycle4csp/outputs/inference_results/\u001b[0m\u001b[32minference_results_full.pkl\u001b[0m\n"
      ]
     },
     "metadata": {},
     "output_type": "display_data"
    }
   ],
   "source": [
    "# 保存详细结果到CSV\n",
    "output_dir = Path('/home/ma-user/work/mincycle4csp/outputs/inference_results')\n",
    "output_dir.mkdir(exist_ok=True, parents=True)\n",
    "\n",
    "# 创建DataFrame\n",
    "df_results = pd.DataFrame([\n",
    "    {\n",
    "        'sample_id': r['sample_id'],\n",
    "        'num_atoms': r['num_atoms'],\n",
    "        'best_rmsd': r['best_rmsd'],\n",
    "        'mean_rmsd': r['mean_rmsd'],\n",
    "        'std_rmsd': r['std_rmsd'],\n",
    "        'num_valid': r['num_valid'],\n",
    "        'num_generations': r['num_generations']\n",
    "    }\n",
    "    for r in all_results\n",
    "])\n",
    "\n",
    "# 保存CSV\n",
    "csv_path = output_dir / 'inference_results.csv'\n",
    "df_results.to_csv(csv_path, index=False)\n",
    "console.print(f'\\n[green]✓ 结果已保存到: {csv_path}[/green]')\n",
    "\n",
    "# 保存最佳结构的CIF文件（仅前10个）\n",
    "console.print(f'\\n[yellow]保存最佳结构CIF文件...[/yellow]')\n",
    "saved_count = 0\n",
    "for result in sorted_results[:10]:\n",
    "    if result['best_structure'] is not None:\n",
    "        cif_path = output_dir / f\"best_{result['sample_id']}_rmsd{result['best_rmsd']:.3f}.cif\"\n",
    "        writer = CifWriter(result['best_structure'])\n",
    "        writer.write_file(str(cif_path))\n",
    "        saved_count += 1\n",
    "\n",
    "console.print(f'[green]✓ 已保存 {saved_count} 个最佳结构CIF文件[/green]')\n",
    "\n",
    "# 保存完整结果pickle\n",
    "pickle_path = output_dir / 'inference_results_full.pkl'\n",
    "with open(pickle_path, 'wb') as f:\n",
    "    pickle.dump(all_results, f)\n",
    "console.print(f'[green]✓ 完整结果已保存到: {pickle_path}[/green]')"
   ]
  },
  {
   "cell_type": "markdown",
   "metadata": {},
   "source": [
    "## 7. 最终报告"
   ]
  },
  {
   "cell_type": "code",
   "execution_count": 24,
   "metadata": {},
   "outputs": [
    {
     "data": {
      "text/html": [
       "<pre style=\"white-space:pre;overflow-x:auto;line-height:normal;font-family:Menlo,'DejaVu Sans Mono',consolas,'Courier New',monospace\">\n",
       "================================================================================\n",
       "</pre>\n"
      ],
      "text/plain": [
       "\n",
       "================================================================================\n"
      ]
     },
     "metadata": {},
     "output_type": "display_data"
    },
    {
     "data": {
      "text/html": [
       "<pre style=\"white-space:pre;overflow-x:auto;line-height:normal;font-family:Menlo,'DejaVu Sans Mono',consolas,'Courier New',monospace\">                                       <span style=\"color: #008080; text-decoration-color: #008080; font-weight: bold\">          晶体结构预测 - 完整推理报告</span>                                       \n",
       "</pre>\n"
      ],
      "text/plain": [
       "                                       \u001b[1;36m          晶体结构预测 - 完整推理报告\u001b[0m                                       \n"
      ]
     },
     "metadata": {},
     "output_type": "display_data"
    },
    {
     "data": {
      "text/html": [
       "<pre style=\"white-space:pre;overflow-x:auto;line-height:normal;font-family:Menlo,'DejaVu Sans Mono',consolas,'Courier New',monospace\">================================================================================\n",
       "</pre>\n"
      ],
      "text/plain": [
       "================================================================================\n"
      ]
     },
     "metadata": {},
     "output_type": "display_data"
    },
    {
     "data": {
      "text/html": [
       "<pre style=\"white-space:pre;overflow-x:auto;line-height:normal;font-family:Menlo,'DejaVu Sans Mono',consolas,'Courier New',monospace\">\n",
       "<span style=\"font-weight: bold\">【实验配置】</span>\n",
       "</pre>\n"
      ],
      "text/plain": [
       "\n",
       "\u001b[1m【实验配置】\u001b[0m\n"
      ]
     },
     "metadata": {},
     "output_type": "display_data"
    },
    {
     "data": {
      "text/html": [
       "<pre style=\"white-space:pre;overflow-x:auto;line-height:normal;font-family:Menlo,'DejaVu Sans Mono',consolas,'Courier New',monospace\">  模型: Transformer + CFM\n",
       "</pre>\n"
      ],
      "text/plain": [
       "  模型: Transformer + CFM\n"
      ]
     },
     "metadata": {},
     "output_type": "display_data"
    },
    {
     "data": {
      "text/html": [
       "<pre style=\"white-space:pre;overflow-x:auto;line-height:normal;font-family:Menlo,'DejaVu Sans Mono',consolas,'Courier New',monospace\">  参数量: <span style=\"color: #008080; text-decoration-color: #008080; font-weight: bold\">77.</span>36M\n",
       "</pre>\n"
      ],
      "text/plain": [
       "  参数量: \u001b[1;36m77.\u001b[0m36M\n"
      ]
     },
     "metadata": {},
     "output_type": "display_data"
    },
    {
     "data": {
      "text/html": [
       "<pre style=\"white-space:pre;overflow-x:auto;line-height:normal;font-family:Menlo,'DejaVu Sans Mono',consolas,'Courier New',monospace\">  设备: cuda\n",
       "</pre>\n"
      ],
      "text/plain": [
       "  设备: cuda\n"
      ]
     },
     "metadata": {},
     "output_type": "display_data"
    },
    {
     "data": {
      "text/html": [
       "<pre style=\"white-space:pre;overflow-x:auto;line-height:normal;font-family:Menlo,'DejaVu Sans Mono',consolas,'Courier New',monospace\">  每样本生成数: <span style=\"color: #008080; text-decoration-color: #008080; font-weight: bold\">10</span>\n",
       "</pre>\n"
      ],
      "text/plain": [
       "  每样本生成数: \u001b[1;36m10\u001b[0m\n"
      ]
     },
     "metadata": {},
     "output_type": "display_data"
    },
    {
     "data": {
      "text/html": [
       "<pre style=\"white-space:pre;overflow-x:auto;line-height:normal;font-family:Menlo,'DejaVu Sans Mono',consolas,'Courier New',monospace\">  ODE步数: <span style=\"color: #008080; text-decoration-color: #008080; font-weight: bold\">50</span>\n",
       "</pre>\n"
      ],
      "text/plain": [
       "  ODE步数: \u001b[1;36m50\u001b[0m\n"
      ]
     },
     "metadata": {},
     "output_type": "display_data"
    },
    {
     "data": {
      "text/html": [
       "<pre style=\"white-space:pre;overflow-x:auto;line-height:normal;font-family:Menlo,'DejaVu Sans Mono',consolas,'Courier New',monospace\">  采样温度: <span style=\"color: #008080; text-decoration-color: #008080; font-weight: bold\">0.8</span>\n",
       "</pre>\n"
      ],
      "text/plain": [
       "  采样温度: \u001b[1;36m0.8\u001b[0m\n"
      ]
     },
     "metadata": {},
     "output_type": "display_data"
    },
    {
     "data": {
      "text/html": [
       "<pre style=\"white-space:pre;overflow-x:auto;line-height:normal;font-family:Menlo,'DejaVu Sans Mono',consolas,'Courier New',monospace\">\n",
       "<span style=\"font-weight: bold\">【数据统计】</span>\n",
       "</pre>\n"
      ],
      "text/plain": [
       "\n",
       "\u001b[1m【数据统计】\u001b[0m\n"
      ]
     },
     "metadata": {},
     "output_type": "display_data"
    },
    {
     "data": {
      "text/html": [
       "<pre style=\"white-space:pre;overflow-x:auto;line-height:normal;font-family:Menlo,'DejaVu Sans Mono',consolas,'Courier New',monospace\">  总样本数: <span style=\"color: #008080; text-decoration-color: #008080; font-weight: bold\">200</span>\n",
       "</pre>\n"
      ],
      "text/plain": [
       "  总样本数: \u001b[1;36m200\u001b[0m\n"
      ]
     },
     "metadata": {},
     "output_type": "display_data"
    },
    {
     "data": {
      "text/html": [
       "<pre style=\"white-space:pre;overflow-x:auto;line-height:normal;font-family:Menlo,'DejaVu Sans Mono',consolas,'Courier New',monospace\">  有效样本: <span style=\"color: #008080; text-decoration-color: #008080; font-weight: bold\">14</span>\n",
       "</pre>\n"
      ],
      "text/plain": [
       "  有效样本: \u001b[1;36m14\u001b[0m\n"
      ]
     },
     "metadata": {},
     "output_type": "display_data"
    },
    {
     "data": {
      "text/html": [
       "<pre style=\"white-space:pre;overflow-x:auto;line-height:normal;font-family:Menlo,'DejaVu Sans Mono',consolas,'Courier New',monospace\">  失败样本: <span style=\"color: #008080; text-decoration-color: #008080; font-weight: bold\">186</span>\n",
       "</pre>\n"
      ],
      "text/plain": [
       "  失败样本: \u001b[1;36m186\u001b[0m\n"
      ]
     },
     "metadata": {},
     "output_type": "display_data"
    },
    {
     "data": {
      "text/html": [
       "<pre style=\"white-space:pre;overflow-x:auto;line-height:normal;font-family:Menlo,'DejaVu Sans Mono',consolas,'Courier New',monospace\">  总生成结构数: <span style=\"color: #008080; text-decoration-color: #008080; font-weight: bold\">2000</span>\n",
       "</pre>\n"
      ],
      "text/plain": [
       "  总生成结构数: \u001b[1;36m2000\u001b[0m\n"
      ]
     },
     "metadata": {},
     "output_type": "display_data"
    },
    {
     "data": {
      "text/html": [
       "<pre style=\"white-space:pre;overflow-x:auto;line-height:normal;font-family:Menlo,'DejaVu Sans Mono',consolas,'Courier New',monospace\">\n",
       "<span style=\"font-weight: bold\">【RMSD性能】</span>\n",
       "</pre>\n"
      ],
      "text/plain": [
       "\n",
       "\u001b[1m【RMSD性能】\u001b[0m\n"
      ]
     },
     "metadata": {},
     "output_type": "display_data"
    },
    {
     "data": {
      "text/html": [
       "<pre style=\"white-space:pre;overflow-x:auto;line-height:normal;font-family:Menlo,'DejaVu Sans Mono',consolas,'Courier New',monospace\">  最佳RMSD均值: <span style=\"color: #008080; text-decoration-color: #008080; font-weight: bold\">0.3954</span> ± <span style=\"color: #008080; text-decoration-color: #008080; font-weight: bold\">0.0918</span> Å\n",
       "</pre>\n"
      ],
      "text/plain": [
       "  最佳RMSD均值: \u001b[1;36m0.3954\u001b[0m ± \u001b[1;36m0.0918\u001b[0m Å\n"
      ]
     },
     "metadata": {},
     "output_type": "display_data"
    },
    {
     "data": {
      "text/html": [
       "<pre style=\"white-space:pre;overflow-x:auto;line-height:normal;font-family:Menlo,'DejaVu Sans Mono',consolas,'Courier New',monospace\">  最佳RMSD中位数: <span style=\"color: #008080; text-decoration-color: #008080; font-weight: bold\">0.4264</span> Å\n",
       "</pre>\n"
      ],
      "text/plain": [
       "  最佳RMSD中位数: \u001b[1;36m0.4264\u001b[0m Å\n"
      ]
     },
     "metadata": {},
     "output_type": "display_data"
    },
    {
     "data": {
      "text/html": [
       "<pre style=\"white-space:pre;overflow-x:auto;line-height:normal;font-family:Menlo,'DejaVu Sans Mono',consolas,'Courier New',monospace\">  最佳RMSD范围: <span style=\"font-weight: bold\">[</span><span style=\"color: #008080; text-decoration-color: #008080; font-weight: bold\">0.1312</span>, <span style=\"color: #008080; text-decoration-color: #008080; font-weight: bold\">0.4907</span><span style=\"font-weight: bold\">]</span> Å\n",
       "</pre>\n"
      ],
      "text/plain": [
       "  最佳RMSD范围: \u001b[1m[\u001b[0m\u001b[1;36m0.1312\u001b[0m, \u001b[1;36m0.4907\u001b[0m\u001b[1m]\u001b[0m Å\n"
      ]
     },
     "metadata": {},
     "output_type": "display_data"
    },
    {
     "data": {
      "text/html": [
       "<pre style=\"white-space:pre;overflow-x:auto;line-height:normal;font-family:Menlo,'DejaVu Sans Mono',consolas,'Courier New',monospace\">\n",
       "<span style=\"font-weight: bold\">【成功率分析】</span>\n",
       "</pre>\n"
      ],
      "text/plain": [
       "\n",
       "\u001b[1m【成功率分析】\u001b[0m\n"
      ]
     },
     "metadata": {},
     "output_type": "display_data"
    },
    {
     "data": {
      "text/html": [
       "<pre style=\"white-space:pre;overflow-x:auto;line-height:normal;font-family:Menlo,'DejaVu Sans Mono',consolas,'Courier New',monospace\">  RMSD ≤ <span style=\"color: #008080; text-decoration-color: #008080; font-weight: bold\">0.1</span> Å: <span style=\"color: #008080; text-decoration-color: #008080; font-weight: bold\">0.0</span>%\n",
       "</pre>\n"
      ],
      "text/plain": [
       "  RMSD ≤ \u001b[1;36m0.1\u001b[0m Å: \u001b[1;36m0.0\u001b[0m%\n"
      ]
     },
     "metadata": {},
     "output_type": "display_data"
    },
    {
     "data": {
      "text/html": [
       "<pre style=\"white-space:pre;overflow-x:auto;line-height:normal;font-family:Menlo,'DejaVu Sans Mono',consolas,'Courier New',monospace\">  RMSD ≤ <span style=\"color: #008080; text-decoration-color: #008080; font-weight: bold\">0.2</span> Å: <span style=\"color: #008080; text-decoration-color: #008080; font-weight: bold\">7.1</span>%\n",
       "</pre>\n"
      ],
      "text/plain": [
       "  RMSD ≤ \u001b[1;36m0.2\u001b[0m Å: \u001b[1;36m7.1\u001b[0m%\n"
      ]
     },
     "metadata": {},
     "output_type": "display_data"
    },
    {
     "data": {
      "text/html": [
       "<pre style=\"white-space:pre;overflow-x:auto;line-height:normal;font-family:Menlo,'DejaVu Sans Mono',consolas,'Courier New',monospace\">  RMSD ≤ <span style=\"color: #008080; text-decoration-color: #008080; font-weight: bold\">0.3</span> Å: <span style=\"color: #008080; text-decoration-color: #008080; font-weight: bold\">14.3</span>%\n",
       "</pre>\n"
      ],
      "text/plain": [
       "  RMSD ≤ \u001b[1;36m0.3\u001b[0m Å: \u001b[1;36m14.3\u001b[0m%\n"
      ]
     },
     "metadata": {},
     "output_type": "display_data"
    },
    {
     "data": {
      "text/html": [
       "<pre style=\"white-space:pre;overflow-x:auto;line-height:normal;font-family:Menlo,'DejaVu Sans Mono',consolas,'Courier New',monospace\">  RMSD ≤ <span style=\"color: #008080; text-decoration-color: #008080; font-weight: bold\">0.5</span> Å: <span style=\"color: #008080; text-decoration-color: #008080; font-weight: bold\">100.0</span>%\n",
       "</pre>\n"
      ],
      "text/plain": [
       "  RMSD ≤ \u001b[1;36m0.5\u001b[0m Å: \u001b[1;36m100.0\u001b[0m%\n"
      ]
     },
     "metadata": {},
     "output_type": "display_data"
    },
    {
     "data": {
      "text/html": [
       "<pre style=\"white-space:pre;overflow-x:auto;line-height:normal;font-family:Menlo,'DejaVu Sans Mono',consolas,'Courier New',monospace\">  RMSD ≤ <span style=\"color: #008080; text-decoration-color: #008080; font-weight: bold\">1.0</span> Å: <span style=\"color: #008080; text-decoration-color: #008080; font-weight: bold\">100.0</span>%\n",
       "</pre>\n"
      ],
      "text/plain": [
       "  RMSD ≤ \u001b[1;36m1.0\u001b[0m Å: \u001b[1;36m100.0\u001b[0m%\n"
      ]
     },
     "metadata": {},
     "output_type": "display_data"
    },
    {
     "data": {
      "text/html": [
       "<pre style=\"white-space:pre;overflow-x:auto;line-height:normal;font-family:Menlo,'DejaVu Sans Mono',consolas,'Courier New',monospace\">\n",
       "<span style=\"color: #008000; text-decoration-color: #008000; font-weight: bold\">【最佳表现】</span>\n",
       "</pre>\n"
      ],
      "text/plain": [
       "\n",
       "\u001b[1;32m【最佳表现】\u001b[0m\n"
      ]
     },
     "metadata": {},
     "output_type": "display_data"
    },
    {
     "data": {
      "text/html": [
       "<pre style=\"white-space:pre;overflow-x:auto;line-height:normal;font-family:Menlo,'DejaVu Sans Mono',consolas,'Courier New',monospace\">  样本ID: A-<span style=\"color: #008080; text-decoration-color: #008080; font-weight: bold\">126</span>\n",
       "</pre>\n"
      ],
      "text/plain": [
       "  样本ID: A-\u001b[1;36m126\u001b[0m\n"
      ]
     },
     "metadata": {},
     "output_type": "display_data"
    },
    {
     "data": {
      "text/html": [
       "<pre style=\"white-space:pre;overflow-x:auto;line-height:normal;font-family:Menlo,'DejaVu Sans Mono',consolas,'Courier New',monospace\">  原子数: <span style=\"color: #008080; text-decoration-color: #008080; font-weight: bold\">4</span>\n",
       "</pre>\n"
      ],
      "text/plain": [
       "  原子数: \u001b[1;36m4\u001b[0m\n"
      ]
     },
     "metadata": {},
     "output_type": "display_data"
    },
    {
     "data": {
      "text/html": [
       "<pre style=\"white-space:pre;overflow-x:auto;line-height:normal;font-family:Menlo,'DejaVu Sans Mono',consolas,'Courier New',monospace\">  最佳RMSD: <span style=\"color: #008080; text-decoration-color: #008080; font-weight: bold\">0.1312</span> Å\n",
       "</pre>\n"
      ],
      "text/plain": [
       "  最佳RMSD: \u001b[1;36m0.1312\u001b[0m Å\n"
      ]
     },
     "metadata": {},
     "output_type": "display_data"
    },
    {
     "data": {
      "text/html": [
       "<pre style=\"white-space:pre;overflow-x:auto;line-height:normal;font-family:Menlo,'DejaVu Sans Mono',consolas,'Courier New',monospace\">  平均RMSD: <span style=\"color: #008080; text-decoration-color: #008080; font-weight: bold\">0.3553</span> Å\n",
       "</pre>\n"
      ],
      "text/plain": [
       "  平均RMSD: \u001b[1;36m0.3553\u001b[0m Å\n"
      ]
     },
     "metadata": {},
     "output_type": "display_data"
    },
    {
     "data": {
      "text/html": [
       "<pre style=\"white-space:pre;overflow-x:auto;line-height:normal;font-family:Menlo,'DejaVu Sans Mono',consolas,'Courier New',monospace\">\n",
       "================================================================================\n",
       "</pre>\n"
      ],
      "text/plain": [
       "\n",
       "================================================================================\n"
      ]
     },
     "metadata": {},
     "output_type": "display_data"
    },
    {
     "data": {
      "text/html": [
       "<pre style=\"white-space:pre;overflow-x:auto;line-height:normal;font-family:Menlo,'DejaVu Sans Mono',consolas,'Courier New',monospace\">                                          <span style=\"color: #008000; text-decoration-color: #008000; font-weight: bold\">                    推理完成！</span>                                           \n",
       "</pre>\n"
      ],
      "text/plain": [
       "                                          \u001b[1;32m                    推理完成！\u001b[0m                                           \n"
      ]
     },
     "metadata": {},
     "output_type": "display_data"
    },
    {
     "data": {
      "text/html": [
       "<pre style=\"white-space:pre;overflow-x:auto;line-height:normal;font-family:Menlo,'DejaVu Sans Mono',consolas,'Courier New',monospace\">================================================================================\n",
       "</pre>\n"
      ],
      "text/plain": [
       "================================================================================\n"
      ]
     },
     "metadata": {},
     "output_type": "display_data"
    }
   ],
   "source": [
    "# 生成最终报告\n",
    "console.print('\\n' + '='*80)\n",
    "console.print('[bold cyan]          晶体结构预测 - 完整推理报告[/bold cyan]', justify='center')\n",
    "console.print('='*80)\n",
    "\n",
    "console.print(f'\\n[bold]【实验配置】[/bold]')\n",
    "console.print(f'  模型: Transformer + CFM')\n",
    "console.print(f'  参数量: {sum(p.numel() for p in trainer.parameters())/1e6:.2f}M')\n",
    "console.print(f'  设备: {device}')\n",
    "console.print(f'  每样本生成数: {NUM_GENERATIONS}')\n",
    "console.print(f'  ODE步数: {NUM_ODE_STEPS}')\n",
    "console.print(f'  采样温度: {TEMPERATURE}')\n",
    "\n",
    "console.print(f'\\n[bold]【数据统计】[/bold]')\n",
    "console.print(f'  总样本数: {len(test_dataset)}')\n",
    "console.print(f'  有效样本: {len(valid_results)}')\n",
    "console.print(f'  失败样本: {len(all_results) - len(valid_results)}')\n",
    "console.print(f'  总生成结构数: {len(test_dataset) * NUM_GENERATIONS}')\n",
    "\n",
    "if valid_results:\n",
    "    console.print(f'\\n[bold]【RMSD性能】[/bold]')\n",
    "    console.print(f'  最佳RMSD均值: {np.mean(all_best_rmsd):.4f} ± {np.std(all_best_rmsd):.4f} Å')\n",
    "    console.print(f'  最佳RMSD中位数: {np.median(all_best_rmsd):.4f} Å')\n",
    "    console.print(f'  最佳RMSD范围: [{np.min(all_best_rmsd):.4f}, {np.max(all_best_rmsd):.4f}] Å')\n",
    "    \n",
    "    # 成功率统计\n",
    "    console.print(f'\\n[bold]【成功率分析】[/bold]')\n",
    "    for threshold in [0.1, 0.2, 0.3, 0.5, 1.0]:\n",
    "        success_rate = np.mean(np.array(all_best_rmsd) <= threshold) * 100\n",
    "        console.print(f'  RMSD ≤ {threshold:.1f} Å: {success_rate:.1f}%')\n",
    "    \n",
    "    # 找出冠军样本\n",
    "    champion = sorted_results[0]\n",
    "    console.print(f'\\n[bold green]【最佳表现】[/bold green]')\n",
    "    console.print(f'  样本ID: {champion[\"sample_id\"]}')\n",
    "    console.print(f'  原子数: {champion[\"num_atoms\"]}')\n",
    "    console.print(f'  最佳RMSD: {champion[\"best_rmsd\"]:.4f} Å')\n",
    "    console.print(f'  平均RMSD: {champion[\"mean_rmsd\"]:.4f} Å')\n",
    "\n",
    "console.print('\\n' + '='*80)\n",
    "console.print('[bold green]                    推理完成！[/bold green]', justify='center')\n",
    "console.print('='*80)"
   ]
  }
 ],
 "metadata": {
  "kernelspec": {
   "display_name": ".venv",
   "language": "python",
   "name": "python3"
  },
  "language_info": {
   "codemirror_mode": {
    "name": "ipython",
    "version": 3
   },
   "file_extension": ".py",
   "mimetype": "text/x-python",
   "name": "python",
   "nbconvert_exporter": "python",
   "pygments_lexer": "ipython3",
   "version": "3.12.11"
  }
 },
 "nbformat": 4,
 "nbformat_minor": 4
}
